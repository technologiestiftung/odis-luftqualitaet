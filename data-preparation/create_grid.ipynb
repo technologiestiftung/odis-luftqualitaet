{
 "cells": [
  {
   "cell_type": "code",
   "execution_count": null,
   "metadata": {},
   "outputs": [],
   "source": [
    "import pandas as pd\n",
    "import geopandas as gpd\n",
    "from shapely.geometry import Polygon\n",
    "import pyproj\n",
    "import json"
   ]
  },
  {
   "cell_type": "code",
   "execution_count": null,
   "metadata": {},
   "outputs": [],
   "source": [
    "def create_grid_cell(x_center, y_center, width=50, height=50):\n",
    "    half_width = width / 2\n",
    "    half_height = height / 2\n",
    "    return Polygon([\n",
    "        (x_center - half_width, y_center - half_height),\n",
    "        (x_center - half_width, y_center + half_height),\n",
    "        (x_center + half_width, y_center + half_height),\n",
    "        (x_center + half_width, y_center - half_height)\n",
    "    ])\n"
   ]
  },
  {
   "cell_type": "code",
   "execution_count": null,
   "metadata": {},
   "outputs": [],
   "source": [
    "data = pd.read_csv(\"./2023_pollutant_grid_avg.csv\")\n",
    "data['geometry'] = data.apply(lambda row: create_grid_cell(row['x'], row['y']), axis=1)"
   ]
  },
  {
   "cell_type": "code",
   "execution_count": null,
   "metadata": {},
   "outputs": [],
   "source": [
    "# Drop the x_center and y_center columns\n",
    "data = data.drop(columns=['x', 'y'])"
   ]
  },
  {
   "cell_type": "code",
   "execution_count": null,
   "metadata": {},
   "outputs": [],
   "source": [
    "gdf = gpd.GeoDataFrame(data, crs=\"EPSG:25833\")\n",
    "gdf = gdf.to_crs(\"EPSG:4326\")\n",
    "gdf.to_file(\"out/all.geojson\", driver=\"GeoJSON\")"
   ]
  },
  {
   "cell_type": "code",
   "execution_count": null,
   "metadata": {},
   "outputs": [],
   "source": [
    "# Function to merge grid cells and save to a file\n",
    "def merge_and_save(gdf, pollutant, filename):\n",
    "    gdf_merged = gdf.dissolve(by=pollutant, as_index=False)  # Merge by pollutant value\n",
    "    gdf_merged = gdf_merged[[pollutant, 'geometry']]  # Keep only pollutant and geometry\n",
    "    gdf_merged.to_file(filename, driver=\"GeoJSON\")\n",
    "    print(f\"Saved: {filename}\")"
   ]
  },
  {
   "cell_type": "code",
   "execution_count": null,
   "metadata": {},
   "outputs": [],
   "source": [
    "# Merge and save files for NO₂, PM10, and PM2.5\n",
    "merge_and_save(gdf, 'no2', 'out/merged_no2.geojson')\n",
    "merge_and_save(gdf, 'pm10', 'out/merged_pm10.geojson')\n",
    "merge_and_save(gdf, 'pm2.5', 'out/merged_pm25.geojson')"
   ]
  },
  {
   "cell_type": "code",
   "execution_count": null,
   "metadata": {},
   "outputs": [],
   "source": [
    "# Calculate min and max values for NO₂, PM10, and PM2.5\n",
    "pollutants = [\"no2\", \"pm10\", \"pm2.5\"]\n",
    "pollutant_stats = {\n",
    "    pollutant: [int(data[pollutant].min()),int(data[pollutant].max()) ]\n",
    "    for pollutant in pollutants\n",
    "}\n",
    "\n",
    "# Write to a JSON file\n",
    "output_filename = \"../src/lib/pollutant_stats.json\"\n",
    "with open(output_filename, \"w\") as json_file:\n",
    "    json.dump(pollutant_stats, json_file, indent=4)\n",
    "\n",
    "print(f\"Pollutant statistics saved to {pollutant_stats}\")"
   ]
  },
  {
   "cell_type": "code",
   "execution_count": null,
   "metadata": {},
   "outputs": [],
   "source": [
    "#\n",
    "!tippecanoe --output-to-directory ../public/tiles/highzoom --no-tile-compression --force -B 13 --minimum-zoom=10 --maximum-zoom=13 ./out/all.geojson"
   ]
  },
  {
   "cell_type": "code",
   "execution_count": null,
   "metadata": {},
   "outputs": [],
   "source": [
    "!tippecanoe --output-to-directory ../public/tiles/merged_no2 --no-tile-compression --force --minimum-zoom=1 --maximum-zoom=10 --no-tile-size-limit ./out/merged_no2.geojson"
   ]
  },
  {
   "cell_type": "code",
   "execution_count": null,
   "metadata": {},
   "outputs": [],
   "source": [
    "!tippecanoe --output-to-directory ../public/tiles/merged_pm10 --no-tile-compression --force -B 13 --minimum-zoom=1 --maximum-zoom=10 --no-tile-size-limit ./out/merged_pm10.geojson"
   ]
  },
  {
   "cell_type": "code",
   "execution_count": null,
   "metadata": {},
   "outputs": [],
   "source": [
    "!tippecanoe --output-to-directory ../public/tiles/merged_pm25 --no-tile-compression --force -B 13 --minimum-zoom=1 --maximum-zoom=10 --no-tile-size-limit ./out/merged_pm25.geojson"
   ]
  }
 ],
 "metadata": {
  "kernelspec": {
   "display_name": "Python 3",
   "language": "python",
   "name": "python3"
  },
  "language_info": {
   "codemirror_mode": {
    "name": "ipython",
    "version": 3
   },
   "file_extension": ".py",
   "mimetype": "text/x-python",
   "name": "python",
   "nbconvert_exporter": "python",
   "pygments_lexer": "ipython3",
   "version": "3.9.6"
  }
 },
 "nbformat": 4,
 "nbformat_minor": 4
}
